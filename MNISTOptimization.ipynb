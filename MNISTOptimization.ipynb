{
 "cells": [
  {
   "cell_type": "code",
   "execution_count": null,
   "metadata": {
    "id": "_Z4R-SBFeZIX"
   },
   "outputs": [],
   "source": [
    "from google.colab import drive\n",
    "drive.mount(\"/content/drive\")"
   ]
  },
  {
   "cell_type": "markdown",
   "metadata": {
    "id": "oOuafNC4d3vT"
   },
   "source": [
    "## Deep Learning"
   ]
  },
  {
   "cell_type": "code",
   "execution_count": null,
   "metadata": {
    "colab": {
     "base_uri": "https://localhost:8080/"
    },
    "executionInfo": {
     "elapsed": 89855,
     "status": "ok",
     "timestamp": 1657714389403,
     "user": {
      "displayName": "Azmi",
      "userId": "12811079899412689362"
     },
     "user_tz": -180
    },
    "id": "rYe0f5VKcpmJ",
    "outputId": "fdd5dce7-e5a8-447a-862a-86542d6be14f"
   },
   "outputs": [
    {
     "name": "stdout",
     "output_type": "stream",
     "text": [
      "Downloading data from https://storage.googleapis.com/tensorflow/tf-keras-datasets/mnist.npz\n",
      "11493376/11490434 [==============================] - 0s 0us/step\n",
      "11501568/11490434 [==============================] - 0s 0us/step\n",
      "Epoch 1/40\n",
      "469/469 [==============================] - 5s 4ms/step - loss: 0.4020 - accuracy: 0.8869 - val_loss: 0.1934 - val_accuracy: 0.9421\n",
      "Epoch 2/40\n",
      "469/469 [==============================] - 2s 3ms/step - loss: 0.1649 - accuracy: 0.9525 - val_loss: 0.1399 - val_accuracy: 0.9590\n",
      "Epoch 3/40\n",
      "469/469 [==============================] - 1s 3ms/step - loss: 0.1212 - accuracy: 0.9640 - val_loss: 0.1203 - val_accuracy: 0.9639\n",
      "Epoch 4/40\n",
      "469/469 [==============================] - 2s 3ms/step - loss: 0.0983 - accuracy: 0.9706 - val_loss: 0.1072 - val_accuracy: 0.9684\n",
      "Epoch 5/40\n",
      "469/469 [==============================] - 1s 3ms/step - loss: 0.0810 - accuracy: 0.9755 - val_loss: 0.0969 - val_accuracy: 0.9713\n",
      "Epoch 6/40\n",
      "469/469 [==============================] - 1s 3ms/step - loss: 0.0674 - accuracy: 0.9797 - val_loss: 0.0987 - val_accuracy: 0.9698\n",
      "Epoch 7/40\n",
      "469/469 [==============================] - 1s 3ms/step - loss: 0.0578 - accuracy: 0.9818 - val_loss: 0.0930 - val_accuracy: 0.9726\n",
      "Epoch 8/40\n",
      "469/469 [==============================] - 1s 3ms/step - loss: 0.0507 - accuracy: 0.9849 - val_loss: 0.0929 - val_accuracy: 0.9724\n",
      "Epoch 9/40\n",
      "469/469 [==============================] - 2s 3ms/step - loss: 0.0450 - accuracy: 0.9858 - val_loss: 0.0905 - val_accuracy: 0.9738\n",
      "Epoch 10/40\n",
      "469/469 [==============================] - 1s 3ms/step - loss: 0.0381 - accuracy: 0.9884 - val_loss: 0.0908 - val_accuracy: 0.9722\n",
      "Epoch 11/40\n",
      "469/469 [==============================] - 2s 3ms/step - loss: 0.0337 - accuracy: 0.9900 - val_loss: 0.0948 - val_accuracy: 0.9722\n",
      "Epoch 12/40\n",
      "469/469 [==============================] - 1s 3ms/step - loss: 0.0297 - accuracy: 0.9909 - val_loss: 0.0881 - val_accuracy: 0.9743\n",
      "Epoch 13/40\n",
      "469/469 [==============================] - 1s 3ms/step - loss: 0.0266 - accuracy: 0.9916 - val_loss: 0.0928 - val_accuracy: 0.9743\n",
      "Epoch 14/40\n",
      "469/469 [==============================] - 1s 3ms/step - loss: 0.0240 - accuracy: 0.9926 - val_loss: 0.0937 - val_accuracy: 0.9735\n",
      "Epoch 15/40\n",
      "469/469 [==============================] - 2s 4ms/step - loss: 0.0212 - accuracy: 0.9934 - val_loss: 0.0960 - val_accuracy: 0.9740\n",
      "Epoch 16/40\n",
      "469/469 [==============================] - 1s 3ms/step - loss: 0.0182 - accuracy: 0.9946 - val_loss: 0.0977 - val_accuracy: 0.9746\n",
      "Epoch 17/40\n",
      "469/469 [==============================] - 1s 3ms/step - loss: 0.0162 - accuracy: 0.9951 - val_loss: 0.0982 - val_accuracy: 0.9740\n",
      "Epoch 18/40\n",
      "469/469 [==============================] - 1s 3ms/step - loss: 0.0140 - accuracy: 0.9960 - val_loss: 0.1133 - val_accuracy: 0.9726\n",
      "Epoch 19/40\n",
      "469/469 [==============================] - 1s 3ms/step - loss: 0.0167 - accuracy: 0.9942 - val_loss: 0.1113 - val_accuracy: 0.9725\n",
      "Epoch 20/40\n",
      "469/469 [==============================] - 1s 3ms/step - loss: 0.0122 - accuracy: 0.9961 - val_loss: 0.1033 - val_accuracy: 0.9755\n",
      "Epoch 21/40\n",
      "469/469 [==============================] - 1s 3ms/step - loss: 0.0095 - accuracy: 0.9973 - val_loss: 0.1258 - val_accuracy: 0.9735\n",
      "Epoch 22/40\n",
      "469/469 [==============================] - 1s 3ms/step - loss: 0.0114 - accuracy: 0.9965 - val_loss: 0.1279 - val_accuracy: 0.9721\n",
      "Epoch 23/40\n",
      "469/469 [==============================] - 2s 3ms/step - loss: 0.0129 - accuracy: 0.9959 - val_loss: 0.1267 - val_accuracy: 0.9745\n",
      "Epoch 24/40\n",
      "469/469 [==============================] - 2s 3ms/step - loss: 0.0088 - accuracy: 0.9976 - val_loss: 0.1189 - val_accuracy: 0.9751\n",
      "Epoch 25/40\n",
      "469/469 [==============================] - 1s 3ms/step - loss: 0.0074 - accuracy: 0.9980 - val_loss: 0.1200 - val_accuracy: 0.9756\n",
      "Epoch 26/40\n",
      "469/469 [==============================] - 1s 3ms/step - loss: 0.0079 - accuracy: 0.9975 - val_loss: 0.1416 - val_accuracy: 0.9740\n",
      "Epoch 27/40\n",
      "469/469 [==============================] - 2s 3ms/step - loss: 0.0065 - accuracy: 0.9981 - val_loss: 0.1462 - val_accuracy: 0.9717\n",
      "Epoch 28/40\n",
      "469/469 [==============================] - 2s 4ms/step - loss: 0.0094 - accuracy: 0.9968 - val_loss: 0.1323 - val_accuracy: 0.9752\n",
      "Epoch 29/40\n",
      "469/469 [==============================] - 1s 3ms/step - loss: 0.0069 - accuracy: 0.9978 - val_loss: 0.1237 - val_accuracy: 0.9760\n",
      "Epoch 30/40\n",
      "469/469 [==============================] - 1s 3ms/step - loss: 0.0085 - accuracy: 0.9974 - val_loss: 0.1311 - val_accuracy: 0.9746\n",
      "Epoch 31/40\n",
      "469/469 [==============================] - 2s 3ms/step - loss: 0.0039 - accuracy: 0.9990 - val_loss: 0.1292 - val_accuracy: 0.9765\n",
      "Epoch 32/40\n",
      "469/469 [==============================] - 1s 3ms/step - loss: 0.0040 - accuracy: 0.9990 - val_loss: 0.1369 - val_accuracy: 0.9765\n",
      "Epoch 33/40\n",
      "469/469 [==============================] - 1s 3ms/step - loss: 0.0088 - accuracy: 0.9968 - val_loss: 0.1563 - val_accuracy: 0.9746\n",
      "Epoch 34/40\n",
      "469/469 [==============================] - 1s 3ms/step - loss: 0.0054 - accuracy: 0.9983 - val_loss: 0.1636 - val_accuracy: 0.9724\n",
      "Epoch 35/40\n",
      "469/469 [==============================] - 1s 3ms/step - loss: 0.0102 - accuracy: 0.9966 - val_loss: 0.1430 - val_accuracy: 0.9754\n",
      "Epoch 36/40\n",
      "469/469 [==============================] - 1s 3ms/step - loss: 0.0030 - accuracy: 0.9991 - val_loss: 0.1357 - val_accuracy: 0.9774\n",
      "Epoch 37/40\n",
      "469/469 [==============================] - 1s 3ms/step - loss: 0.0021 - accuracy: 0.9995 - val_loss: 0.1432 - val_accuracy: 0.9762\n",
      "Epoch 38/40\n",
      "469/469 [==============================] - 2s 3ms/step - loss: 0.0089 - accuracy: 0.9971 - val_loss: 0.1542 - val_accuracy: 0.9743\n",
      "Epoch 39/40\n",
      "469/469 [==============================] - 1s 3ms/step - loss: 0.0102 - accuracy: 0.9966 - val_loss: 0.1525 - val_accuracy: 0.9758\n",
      "Epoch 40/40\n",
      "469/469 [==============================] - 1s 3ms/step - loss: 0.0028 - accuracy: 0.9992 - val_loss: 0.1505 - val_accuracy: 0.9771\n"
     ]
    }
   ],
   "source": [
    "import tensorflow as tf\n",
    "\n",
    "mnist=tf.keras.datasets.mnist\n",
    "(train_images,train_labels),(test_images,test_labels)=mnist.load_data()\n",
    "\n",
    "train_images=train_images.reshape(60000,784)\n",
    "test_images=test_images.reshape(10000,784)\n",
    "train_images=train_images.astype(\"float32\")\n",
    "test_images=test_images.astype(\"float32\")\n",
    "train_images/=255 # scale ediyoruz\n",
    "test_images/=255\n",
    "model=tf.keras.Sequential([\n",
    "                           tf.keras.layers.Dense(64,activation=\"relu\",input_shape=(784,)), # 28*28=784\n",
    "                           tf.keras.layers.Dense(64,activation=\"relu\"),\n",
    "                           tf.keras.layers.Dense(10,activation=\"softmax\"),]) \n",
    "\n",
    "model.compile(optimizer=\"adam\",loss=\"sparse_categorical_crossentropy\",metrics=[\"accuracy\"])\n",
    "history=model.fit(train_images,train_labels,batch_size=128,epochs=40,verbose=1,validation_data=(test_images,test_labels))\n"
   ]
  },
  {
   "cell_type": "code",
   "execution_count": null,
   "metadata": {
    "colab": {
     "base_uri": "https://localhost:8080/"
    },
    "executionInfo": {
     "elapsed": 1898,
     "status": "ok",
     "timestamp": 1657714509989,
     "user": {
      "displayName": "Azmi",
      "userId": "12811079899412689362"
     },
     "user_tz": -180
    },
    "id": "FT_uOfAmd6Bz",
    "outputId": "c21c6cdc-621b-4b91-cd47-ff98613407cb"
   },
   "outputs": [
    {
     "name": "stdout",
     "output_type": "stream",
     "text": [
      "313/313 [==============================] - 1s 4ms/step - loss: 0.1505 - accuracy: 0.9771\n",
      "Accuracy:97.71\n"
     ]
    }
   ],
   "source": [
    "_,accuracy=model.evaluate(test_images,test_labels)\n",
    "print(\"Accuracy:%.2f\"%(accuracy*100))"
   ]
  },
  {
   "cell_type": "markdown",
   "metadata": {
    "id": "-B3B13nDfEjv"
   },
   "source": [
    "Graphs"
   ]
  },
  {
   "cell_type": "code",
   "execution_count": null,
   "metadata": {
    "colab": {
     "base_uri": "https://localhost:8080/",
     "height": 573
    },
    "executionInfo": {
     "elapsed": 419,
     "status": "ok",
     "timestamp": 1657714570018,
     "user": {
      "displayName": "Azmi",
      "userId": "12811079899412689362"
     },
     "user_tz": -180
    },
    "id": "FsrZHgUsd5zk",
    "outputId": "91700726-6deb-42ac-d33f-5d9d7b930649"
   },
   "outputs": [
    {
     "data": {
      "image/png": "[encoded data removed]",
      "text/plain": [
       "<Figure size 432x288 with 1 Axes>"
      ]
     },
     "metadata": {
      "needs_background": "light"
     },
     "output_type": "display_data"
    },
    {
     "data": {
      "image/png": "[encoded data removed]",
      "text/plain": [
       "<Figure size 432x288 with 1 Axes>"
      ]
     },
     "metadata": {
      "needs_background": "light"
     },
     "output_type": "display_data"
    }
   ],
   "source": [
    "import matplotlib.pyplot as plt\n",
    "%matplotlib inline \n",
    "plt.plot(history.history[\"accuracy\"])\n",
    "plt.plot(history.history[\"val_accuracy\"])\n",
    "plt.title(\"Modelaccuracy\") # basari\n",
    "plt.ylabel(\"Accuracy\")\n",
    "plt.xlabel(\"Epoch\")\n",
    "plt.legend([\"Train\",\"Test\"],loc=\"upper left\")\n",
    "plt.show()\n",
    "\n",
    "plt.plot(history.history[\"loss\"])\n",
    "plt.plot(history.history[\"val_loss\"])\n",
    "plt.title(\"Model loss\") # hata\n",
    "plt.ylabel(\"loss\")\n",
    "plt.xlabel(\"Epoch\")\n",
    "plt.legend([\"Train\",\"Test\"],loc=\"upper left\")\n",
    "plt.show()"
   ]
  },
  {
   "cell_type": "markdown",
   "metadata": {
    "id": "OY-KeGk2fobZ"
   },
   "source": [
    "**Accuracy arttirma yontemleri**\n",
    "\n",
    "\n",
    "*   Epoch arttirma\n",
    "*   Noron sayisi artirma\n",
    "*   Yeni layer ekleme\n",
    "*   CNN\n",
    "*   Dropout\n",
    "*   Normalize\n",
    "\n"
   ]
  },
  {
   "cell_type": "markdown",
   "metadata": {
    "id": "Pvup31eXgPMy"
   },
   "source": [
    "## First Method: Increase Number of Neurons"
   ]
  },
  {
   "cell_type": "code",
   "execution_count": null,
   "metadata": {
    "colab": {
     "base_uri": "https://localhost:8080/"
    },
    "executionInfo": {
     "elapsed": 83031,
     "status": "ok",
     "timestamp": 1657715040270,
     "user": {
      "displayName": "Azmi",
      "userId": "12811079899412689362"
     },
     "user_tz": -180
    },
    "id": "S_M_gXk0gLXP",
    "outputId": "711c54f9-f87c-423c-ba5f-764d7540cfd1"
   },
   "outputs": [
    {
     "name": "stdout",
     "output_type": "stream",
     "text": [
      "Epoch 1/40\n",
      "469/469 [==============================] - 2s 4ms/step - loss: 0.2185 - accuracy: 0.9359 - val_loss: 0.0955 - val_accuracy: 0.9720\n",
      "Epoch 2/40\n",
      "469/469 [==============================] - 2s 4ms/step - loss: 0.0811 - accuracy: 0.9753 - val_loss: 0.0872 - val_accuracy: 0.9730\n",
      "Epoch 3/40\n",
      "469/469 [==============================] - 2s 3ms/step - loss: 0.0510 - accuracy: 0.9836 - val_loss: 0.0682 - val_accuracy: 0.9795\n",
      "Epoch 4/40\n",
      "469/469 [==============================] - 2s 3ms/step - loss: 0.0363 - accuracy: 0.9880 - val_loss: 0.0732 - val_accuracy: 0.9776\n",
      "Epoch 5/40\n",
      "469/469 [==============================] - 2s 3ms/step - loss: 0.0276 - accuracy: 0.9911 - val_loss: 0.0737 - val_accuracy: 0.9787\n",
      "Epoch 6/40\n",
      "469/469 [==============================] - 2s 3ms/step - loss: 0.0232 - accuracy: 0.9922 - val_loss: 0.0691 - val_accuracy: 0.9808\n",
      "Epoch 7/40\n",
      "469/469 [==============================] - 2s 3ms/step - loss: 0.0190 - accuracy: 0.9937 - val_loss: 0.0752 - val_accuracy: 0.9805\n",
      "Epoch 8/40\n",
      "469/469 [==============================] - 2s 3ms/step - loss: 0.0183 - accuracy: 0.9941 - val_loss: 0.0852 - val_accuracy: 0.9794\n",
      "Epoch 9/40\n",
      "469/469 [==============================] - 1s 3ms/step - loss: 0.0141 - accuracy: 0.9955 - val_loss: 0.0853 - val_accuracy: 0.9791\n",
      "Epoch 10/40\n",
      "469/469 [==============================] - 1s 3ms/step - loss: 0.0128 - accuracy: 0.9957 - val_loss: 0.0907 - val_accuracy: 0.9788\n",
      "Epoch 11/40\n",
      "469/469 [==============================] - 1s 3ms/step - loss: 0.0126 - accuracy: 0.9956 - val_loss: 0.0778 - val_accuracy: 0.9836\n",
      "Epoch 12/40\n",
      "469/469 [==============================] - 1s 3ms/step - loss: 0.0114 - accuracy: 0.9960 - val_loss: 0.0898 - val_accuracy: 0.9817\n",
      "Epoch 13/40\n",
      "469/469 [==============================] - 1s 3ms/step - loss: 0.0116 - accuracy: 0.9958 - val_loss: 0.0963 - val_accuracy: 0.9796\n",
      "Epoch 14/40\n",
      "469/469 [==============================] - 1s 3ms/step - loss: 0.0085 - accuracy: 0.9971 - val_loss: 0.0918 - val_accuracy: 0.9816\n",
      "Epoch 15/40\n",
      "469/469 [==============================] - 2s 5ms/step - loss: 0.0112 - accuracy: 0.9961 - val_loss: 0.0961 - val_accuracy: 0.9808\n",
      "Epoch 16/40\n",
      "469/469 [==============================] - 3s 6ms/step - loss: 0.0095 - accuracy: 0.9970 - val_loss: 0.0915 - val_accuracy: 0.9818\n",
      "Epoch 17/40\n",
      "469/469 [==============================] - 3s 5ms/step - loss: 0.0045 - accuracy: 0.9985 - val_loss: 0.0856 - val_accuracy: 0.9832\n",
      "Epoch 18/40\n",
      "469/469 [==============================] - 2s 4ms/step - loss: 0.0100 - accuracy: 0.9970 - val_loss: 0.1123 - val_accuracy: 0.9795\n",
      "Epoch 19/40\n",
      "469/469 [==============================] - 1s 3ms/step - loss: 0.0084 - accuracy: 0.9971 - val_loss: 0.0943 - val_accuracy: 0.9821\n",
      "Epoch 20/40\n",
      "469/469 [==============================] - 2s 4ms/step - loss: 0.0029 - accuracy: 0.9990 - val_loss: 0.0997 - val_accuracy: 0.9820\n",
      "Epoch 21/40\n",
      "469/469 [==============================] - 1s 3ms/step - loss: 0.0119 - accuracy: 0.9966 - val_loss: 0.0984 - val_accuracy: 0.9800\n",
      "Epoch 22/40\n",
      "469/469 [==============================] - 1s 3ms/step - loss: 0.0083 - accuracy: 0.9976 - val_loss: 0.0904 - val_accuracy: 0.9822\n",
      "Epoch 23/40\n",
      "469/469 [==============================] - 2s 3ms/step - loss: 0.0062 - accuracy: 0.9980 - val_loss: 0.1164 - val_accuracy: 0.9795\n",
      "Epoch 24/40\n",
      "469/469 [==============================] - 1s 3ms/step - loss: 0.0067 - accuracy: 0.9979 - val_loss: 0.1030 - val_accuracy: 0.9817\n",
      "Epoch 25/40\n",
      "469/469 [==============================] - 1s 3ms/step - loss: 0.0038 - accuracy: 0.9990 - val_loss: 0.1032 - val_accuracy: 0.9829\n",
      "Epoch 26/40\n",
      "469/469 [==============================] - 2s 3ms/step - loss: 0.0057 - accuracy: 0.9982 - val_loss: 0.1156 - val_accuracy: 0.9810\n",
      "Epoch 27/40\n",
      "469/469 [==============================] - 1s 3ms/step - loss: 0.0062 - accuracy: 0.9982 - val_loss: 0.1289 - val_accuracy: 0.9800\n",
      "Epoch 28/40\n",
      "469/469 [==============================] - 2s 3ms/step - loss: 0.0083 - accuracy: 0.9976 - val_loss: 0.1097 - val_accuracy: 0.9810\n",
      "Epoch 29/40\n",
      "469/469 [==============================] - 1s 3ms/step - loss: 0.0051 - accuracy: 0.9985 - val_loss: 0.1067 - val_accuracy: 0.9827\n",
      "Epoch 30/40\n",
      "469/469 [==============================] - 1s 3ms/step - loss: 0.0043 - accuracy: 0.9989 - val_loss: 0.1077 - val_accuracy: 0.9820\n",
      "Epoch 31/40\n",
      "469/469 [==============================] - 2s 3ms/step - loss: 0.0069 - accuracy: 0.9980 - val_loss: 0.1073 - val_accuracy: 0.9823\n",
      "Epoch 32/40\n",
      "469/469 [==============================] - 1s 3ms/step - loss: 0.0060 - accuracy: 0.9982 - val_loss: 0.1124 - val_accuracy: 0.9821\n",
      "Epoch 33/40\n",
      "469/469 [==============================] - 1s 3ms/step - loss: 0.0027 - accuracy: 0.9992 - val_loss: 0.1143 - val_accuracy: 0.9834\n",
      "Epoch 34/40\n",
      "469/469 [==============================] - 2s 3ms/step - loss: 0.0061 - accuracy: 0.9982 - val_loss: 0.1416 - val_accuracy: 0.9806\n",
      "Epoch 35/40\n",
      "469/469 [==============================] - 2s 4ms/step - loss: 0.0082 - accuracy: 0.9979 - val_loss: 0.1139 - val_accuracy: 0.9829\n",
      "Epoch 36/40\n",
      "469/469 [==============================] - 2s 4ms/step - loss: 0.0036 - accuracy: 0.9991 - val_loss: 0.1072 - val_accuracy: 0.9858\n",
      "Epoch 37/40\n",
      "469/469 [==============================] - 1s 3ms/step - loss: 0.0037 - accuracy: 0.9991 - val_loss: 0.1018 - val_accuracy: 0.9835\n",
      "Epoch 38/40\n",
      "469/469 [==============================] - 1s 3ms/step - loss: 0.0031 - accuracy: 0.9993 - val_loss: 0.1136 - val_accuracy: 0.9827\n",
      "Epoch 39/40\n",
      "469/469 [==============================] - 2s 3ms/step - loss: 0.0086 - accuracy: 0.9977 - val_loss: 0.1313 - val_accuracy: 0.9811\n",
      "Epoch 40/40\n",
      "469/469 [==============================] - 2s 3ms/step - loss: 0.0042 - accuracy: 0.9987 - val_loss: 0.0950 - val_accuracy: 0.9851\n"
     ]
    }
   ],
   "source": [
    "import tensorflow as tf\n",
    "\n",
    "mnist=tf.keras.datasets.mnist\n",
    "(train_images,train_labels),(test_images,test_labels)=mnist.load_data()\n",
    "\n",
    "\n",
    "train_images=train_images.reshape(60000,784)\n",
    "test_images=test_images.reshape(10000,784)\n",
    "train_images=train_images.astype(\"float32\")\n",
    "test_images=test_images.astype(\"float32\")\n",
    "train_images/=255\n",
    "test_images/=255\n",
    "model=tf.keras.Sequential([\n",
    "                           tf.keras.layers.Dense(512,activation=\"relu\",input_shape=(784,)),\n",
    "                           tf.keras.layers.Dense(512,activation=\"relu\"),\n",
    "                           tf.keras.layers.Dense(10,activation=\"softmax\"),]) \n",
    "\n",
    "model.compile(optimizer=\"adam\",loss=\"sparse_categorical_crossentropy\",metrics=[\"accuracy\"])\n",
    "history=model.fit(train_images,train_labels,batch_size=128,epochs=40,verbose=1,validation_data=(test_images,test_labels))"
   ]
  },
  {
   "cell_type": "code",
   "execution_count": null,
   "metadata": {
    "colab": {
     "base_uri": "https://localhost:8080/"
    },
    "executionInfo": {
     "elapsed": 1039,
     "status": "ok",
     "timestamp": 1657715047126,
     "user": {
      "displayName": "Azmi",
      "userId": "12811079899412689362"
     },
     "user_tz": -180
    },
    "id": "l8kX2mbWg-Ap",
    "outputId": "2f1555cd-03a7-4fbd-b168-82bf6ddcfc27"
   },
   "outputs": [
    {
     "name": "stdout",
     "output_type": "stream",
     "text": [
      "313/313 [==============================] - 1s 2ms/step - loss: 0.0950 - accuracy: 0.9851\n",
      "Accuracy:98.51\n"
     ]
    }
   ],
   "source": [
    "_,accuracy=model.evaluate(test_images,test_labels)\n",
    "print(\"Accuracy:%.2f\"%(accuracy*100)) # accuracy artti"
   ]
  },
  {
   "cell_type": "markdown",
   "metadata": {
    "id": "ow-pQ6KQhsUy"
   },
   "source": [
    "**Graphs**"
   ]
  },
  {
   "cell_type": "code",
   "execution_count": null,
   "metadata": {
    "colab": {
     "base_uri": "https://localhost:8080/",
     "height": 573
    },
    "executionInfo": {
     "elapsed": 456,
     "status": "ok",
     "timestamp": 1657715226148,
     "user": {
      "displayName": "Azmi",
      "userId": "12811079899412689362"
     },
     "user_tz": -180
    },
    "id": "XYG0WWhNhrb1",
    "outputId": "4cbfa632-7dfb-4a44-a6cb-39b885077daa"
   },
   "outputs": [
    {
     "data": {
      "image/png": "[encoded data removed]",
      "text/plain": [
       "<Figure size 432x288 with 1 Axes>"
      ]
     },
     "metadata": {
      "needs_background": "light"
     },
     "output_type": "display_data"
    },
    {
     "data": {
      "image/png": "[encoded data removed]",
      "text/plain": [
       "<Figure size 432x288 with 1 Axes>"
      ]
     },
     "metadata": {
      "needs_background": "light"
     },
     "output_type": "display_data"
    }
   ],
   "source": [
    "import matplotlib.pyplot as plt\n",
    "%matplotlib inline \n",
    "plt.plot(history.history[\"accuracy\"])\n",
    "plt.plot(history.history[\"val_accuracy\"])\n",
    "plt.title(\"Modelaccuracy\")\n",
    "plt.ylabel(\"Accuracy\")\n",
    "plt.xlabel(\"Epoch\")\n",
    "plt.legend([\"Train\",\"Test\"],loc=\"upper left\")\n",
    "plt.show()\n",
    "\n",
    "plt.plot(history.history[\"loss\"])\n",
    "plt.plot(history.history[\"val_loss\"])\n",
    "plt.title(\"Model loss\")\n",
    "plt.ylabel(\"loss\")\n",
    "plt.xlabel(\"Epoch\")\n",
    "plt.legend([\"Train\",\"Test\"],loc=\"upper left\")\n",
    "plt.show()"
   ]
  },
  {
   "cell_type": "markdown",
   "metadata": {
    "id": "7SndJbVqggb2"
   },
   "source": [
    "## Second Method: Increase Number of Layers"
   ]
  },
  {
   "cell_type": "code",
   "execution_count": null,
   "metadata": {
    "colab": {
     "base_uri": "https://localhost:8080/"
    },
    "executionInfo": {
     "elapsed": 83059,
     "status": "ok",
     "timestamp": 1657715379615,
     "user": {
      "displayName": "Azmi",
      "userId": "12811079899412689362"
     },
     "user_tz": -180
    },
    "id": "tQB01YEohzCH",
    "outputId": "9edcf0da-0ef6-4519-e461-fbfd8b7f805d"
   },
   "outputs": [
    {
     "name": "stdout",
     "output_type": "stream",
     "text": [
      "Epoch 1/40\n",
      "469/469 [==============================] - 2s 4ms/step - loss: 0.2128 - accuracy: 0.9358 - val_loss: 0.1063 - val_accuracy: 0.9680\n",
      "Epoch 2/40\n",
      "469/469 [==============================] - 2s 4ms/step - loss: 0.0813 - accuracy: 0.9746 - val_loss: 0.0888 - val_accuracy: 0.9721\n",
      "Epoch 3/40\n",
      "469/469 [==============================] - 2s 5ms/step - loss: 0.0547 - accuracy: 0.9826 - val_loss: 0.0752 - val_accuracy: 0.9767\n",
      "Epoch 4/40\n",
      "469/469 [==============================] - 2s 4ms/step - loss: 0.0424 - accuracy: 0.9859 - val_loss: 0.0814 - val_accuracy: 0.9764\n",
      "Epoch 5/40\n",
      "469/469 [==============================] - 2s 4ms/step - loss: 0.0310 - accuracy: 0.9903 - val_loss: 0.0890 - val_accuracy: 0.9741\n",
      "Epoch 6/40\n",
      "469/469 [==============================] - 2s 3ms/step - loss: 0.0277 - accuracy: 0.9915 - val_loss: 0.0771 - val_accuracy: 0.9777\n",
      "Epoch 7/40\n",
      "469/469 [==============================] - 2s 3ms/step - loss: 0.0247 - accuracy: 0.9918 - val_loss: 0.0748 - val_accuracy: 0.9806\n",
      "Epoch 8/40\n",
      "469/469 [==============================] - 2s 4ms/step - loss: 0.0215 - accuracy: 0.9925 - val_loss: 0.0998 - val_accuracy: 0.9752\n",
      "Epoch 9/40\n",
      "469/469 [==============================] - 2s 4ms/step - loss: 0.0213 - accuracy: 0.9931 - val_loss: 0.0876 - val_accuracy: 0.9778\n",
      "Epoch 10/40\n",
      "469/469 [==============================] - 2s 3ms/step - loss: 0.0173 - accuracy: 0.9943 - val_loss: 0.0949 - val_accuracy: 0.9775\n",
      "Epoch 11/40\n",
      "469/469 [==============================] - 2s 4ms/step - loss: 0.0151 - accuracy: 0.9953 - val_loss: 0.0823 - val_accuracy: 0.9812\n",
      "Epoch 12/40\n",
      "469/469 [==============================] - 2s 3ms/step - loss: 0.0124 - accuracy: 0.9959 - val_loss: 0.0906 - val_accuracy: 0.9803\n",
      "Epoch 13/40\n",
      "469/469 [==============================] - 2s 3ms/step - loss: 0.0134 - accuracy: 0.9958 - val_loss: 0.0778 - val_accuracy: 0.9829\n",
      "Epoch 14/40\n",
      "469/469 [==============================] - 2s 3ms/step - loss: 0.0115 - accuracy: 0.9966 - val_loss: 0.1315 - val_accuracy: 0.9727\n",
      "Epoch 15/40\n",
      "469/469 [==============================] - 2s 4ms/step - loss: 0.0169 - accuracy: 0.9948 - val_loss: 0.0763 - val_accuracy: 0.9817\n",
      "Epoch 16/40\n",
      "469/469 [==============================] - 2s 4ms/step - loss: 0.0100 - accuracy: 0.9969 - val_loss: 0.0806 - val_accuracy: 0.9826\n",
      "Epoch 17/40\n",
      "469/469 [==============================] - 2s 3ms/step - loss: 0.0111 - accuracy: 0.9969 - val_loss: 0.0977 - val_accuracy: 0.9784\n",
      "Epoch 18/40\n",
      "469/469 [==============================] - 2s 3ms/step - loss: 0.0098 - accuracy: 0.9972 - val_loss: 0.0863 - val_accuracy: 0.9811\n",
      "Epoch 19/40\n",
      "469/469 [==============================] - 2s 4ms/step - loss: 0.0099 - accuracy: 0.9967 - val_loss: 0.0895 - val_accuracy: 0.9814\n",
      "Epoch 20/40\n",
      "469/469 [==============================] - 2s 4ms/step - loss: 0.0101 - accuracy: 0.9969 - val_loss: 0.0811 - val_accuracy: 0.9826\n",
      "Epoch 21/40\n",
      "469/469 [==============================] - 2s 3ms/step - loss: 0.0078 - accuracy: 0.9975 - val_loss: 0.0969 - val_accuracy: 0.9811\n",
      "Epoch 22/40\n",
      "469/469 [==============================] - 2s 4ms/step - loss: 0.0078 - accuracy: 0.9977 - val_loss: 0.1055 - val_accuracy: 0.9834\n",
      "Epoch 23/40\n",
      "469/469 [==============================] - 2s 3ms/step - loss: 0.0118 - accuracy: 0.9964 - val_loss: 0.0716 - val_accuracy: 0.9850\n",
      "Epoch 24/40\n",
      "469/469 [==============================] - 2s 4ms/step - loss: 0.0066 - accuracy: 0.9980 - val_loss: 0.1093 - val_accuracy: 0.9818\n",
      "Epoch 25/40\n",
      "469/469 [==============================] - 2s 3ms/step - loss: 0.0098 - accuracy: 0.9973 - val_loss: 0.0866 - val_accuracy: 0.9814\n",
      "Epoch 26/40\n",
      "469/469 [==============================] - 2s 3ms/step - loss: 0.0029 - accuracy: 0.9991 - val_loss: 0.0912 - val_accuracy: 0.9834\n",
      "Epoch 27/40\n",
      "469/469 [==============================] - 2s 4ms/step - loss: 0.0114 - accuracy: 0.9969 - val_loss: 0.0889 - val_accuracy: 0.9830\n",
      "Epoch 28/40\n",
      "469/469 [==============================] - 2s 3ms/step - loss: 0.0065 - accuracy: 0.9980 - val_loss: 0.1032 - val_accuracy: 0.9822\n",
      "Epoch 29/40\n",
      "469/469 [==============================] - 2s 3ms/step - loss: 0.0084 - accuracy: 0.9980 - val_loss: 0.1049 - val_accuracy: 0.9826\n",
      "Epoch 30/40\n",
      "469/469 [==============================] - 2s 4ms/step - loss: 0.0035 - accuracy: 0.9990 - val_loss: 0.1273 - val_accuracy: 0.9785\n",
      "Epoch 31/40\n",
      "469/469 [==============================] - 2s 4ms/step - loss: 0.0073 - accuracy: 0.9977 - val_loss: 0.1078 - val_accuracy: 0.9826\n",
      "Epoch 32/40\n",
      "469/469 [==============================] - 2s 4ms/step - loss: 0.0069 - accuracy: 0.9984 - val_loss: 0.1168 - val_accuracy: 0.9829\n",
      "Epoch 33/40\n",
      "469/469 [==============================] - 2s 4ms/step - loss: 0.0066 - accuracy: 0.9982 - val_loss: 0.1020 - val_accuracy: 0.9822\n",
      "Epoch 34/40\n",
      "469/469 [==============================] - 2s 4ms/step - loss: 0.0057 - accuracy: 0.9982 - val_loss: 0.0893 - val_accuracy: 0.9845\n",
      "Epoch 35/40\n",
      "469/469 [==============================] - 2s 4ms/step - loss: 0.0084 - accuracy: 0.9980 - val_loss: 0.0905 - val_accuracy: 0.9836\n",
      "Epoch 36/40\n",
      "469/469 [==============================] - 2s 4ms/step - loss: 0.0046 - accuracy: 0.9987 - val_loss: 0.0982 - val_accuracy: 0.9846\n",
      "Epoch 37/40\n",
      "469/469 [==============================] - 2s 3ms/step - loss: 0.0036 - accuracy: 0.9991 - val_loss: 0.1005 - val_accuracy: 0.9837\n",
      "Epoch 38/40\n",
      "469/469 [==============================] - 2s 3ms/step - loss: 0.0065 - accuracy: 0.9984 - val_loss: 0.1172 - val_accuracy: 0.9804\n",
      "Epoch 39/40\n",
      "469/469 [==============================] - 2s 4ms/step - loss: 0.0075 - accuracy: 0.9980 - val_loss: 0.1011 - val_accuracy: 0.9838\n",
      "Epoch 40/40\n",
      "469/469 [==============================] - 2s 4ms/step - loss: 0.0050 - accuracy: 0.9987 - val_loss: 0.1307 - val_accuracy: 0.9825\n"
     ]
    }
   ],
   "source": [
    "import tensorflow as tf\n",
    "\n",
    "mnist=tf.keras.datasets.mnist\n",
    "(train_images,train_labels),(test_images,test_labels)=mnist.load_data()\n",
    "\n",
    "\n",
    "train_images=train_images.reshape(60000,784)\n",
    "test_images=test_images.reshape(10000,784)\n",
    "train_images=train_images.astype(\"float32\")\n",
    "test_images=test_images.astype(\"float32\")\n",
    "train_images/=255\n",
    "test_images/=255\n",
    "model=tf.keras.Sequential([\n",
    "                           tf.keras.layers.Dense(512,activation=\"relu\",input_shape=(784,)),\n",
    "                           tf.keras.layers.Dense(512,activation=\"relu\"),\n",
    "                           tf.keras.layers.Dense(512,activation=\"relu\"), # new layer added  \n",
    "                           tf.keras.layers.Dense(10,activation=\"softmax\"),]) \n",
    "\n",
    "model.compile(optimizer=\"adam\",loss=\"sparse_categorical_crossentropy\",metrics=[\"accuracy\"])\n",
    "history=model.fit(train_images,train_labels,batch_size=128,epochs=40,verbose=1,validation_data=(test_images,test_labels))"
   ]
  },
  {
   "cell_type": "code",
   "execution_count": null,
   "metadata": {
    "colab": {
     "base_uri": "https://localhost:8080/"
    },
    "executionInfo": {
     "elapsed": 1274,
     "status": "ok",
     "timestamp": 1657715400850,
     "user": {
      "displayName": "Azmi",
      "userId": "12811079899412689362"
     },
     "user_tz": -180
    },
    "id": "iKV4xvN1hOG_",
    "outputId": "0f3c998f-f6c0-4529-9f8a-3ff68f267765"
   },
   "outputs": [
    {
     "name": "stdout",
     "output_type": "stream",
     "text": [
      "313/313 [==============================] - 1s 2ms/step - loss: 0.1307 - accuracy: 0.9825\n",
      "Accuracy:98.25\n"
     ]
    }
   ],
   "source": [
    "_,accuracy=model.evaluate(test_images,test_labels)\n",
    "print(\"Accuracy:%.2f\"%(accuracy*100))"
   ]
  },
  {
   "cell_type": "markdown",
   "metadata": {
    "id": "FCxNOXv9iGrY"
   },
   "source": [
    "**Graphs**"
   ]
  },
  {
   "cell_type": "code",
   "execution_count": null,
   "metadata": {
    "colab": {
     "base_uri": "https://localhost:8080/",
     "height": 573
    },
    "executionInfo": {
     "elapsed": 1121,
     "status": "ok",
     "timestamp": 1657715424163,
     "user": {
      "displayName": "Azmi",
      "userId": "12811079899412689362"
     },
     "user_tz": -180
    },
    "id": "TR5-WNQKiFC_",
    "outputId": "af885983-aad1-46ad-c5bd-a98b35ac537d"
   },
   "outputs": [
    {
     "data": {
      "image/png": "[encoded data removed]",
      "text/plain": [
       "<Figure size 432x288 with 1 Axes>"
      ]
     },
     "metadata": {
      "needs_background": "light"
     },
     "output_type": "display_data"
    },
    {
     "data": {
      "image/png": "[encoded data removed]",
      "text/plain": [
       "<Figure size 432x288 with 1 Axes>"
      ]
     },
     "metadata": {
      "needs_background": "light"
     },
     "output_type": "display_data"
    }
   ],
   "source": [
    "import matplotlib.pyplot as plt\n",
    "%matplotlib inline \n",
    "plt.plot(history.history[\"accuracy\"])\n",
    "plt.plot(history.history[\"val_accuracy\"])\n",
    "plt.title(\"Modelaccuracy\")\n",
    "plt.ylabel(\"Accuracy\")\n",
    "plt.xlabel(\"Epoch\")\n",
    "plt.legend([\"Train\",\"Test\"],loc=\"upper left\")\n",
    "plt.show()\n",
    "\n",
    "plt.plot(history.history[\"loss\"])\n",
    "plt.plot(history.history[\"val_loss\"])\n",
    "plt.title(\"Model loss\")\n",
    "plt.ylabel(\"loss\")\n",
    "plt.xlabel(\"Epoch\")\n",
    "plt.legend([\"Train\",\"Test\"],loc=\"upper left\")\n",
    "plt.show()"
   ]
  },
  {
   "cell_type": "markdown",
   "metadata": {
    "id": "6oWzVnV_iVSA"
   },
   "source": [
    "## Third Method: CNN (Convolutional Neural Networks)"
   ]
  },
  {
   "cell_type": "code",
   "execution_count": 11,
   "metadata": {
    "colab": {
     "base_uri": "https://localhost:8080/"
    },
    "executionInfo": {
     "elapsed": 47379,
     "status": "ok",
     "timestamp": 1657715581655,
     "user": {
      "displayName": "Azmi",
      "userId": "12811079899412689362"
     },
     "user_tz": -180
    },
    "id": "l_Dz-hbcihjn",
    "outputId": "78c858d3-f69c-4c84-875b-4caef20f6705"
   },
   "outputs": [
    {
     "metadata": {
      "tags": null
     },
     "name": "stderr",
     "output_type": "stream",
     "text": [
      "/usr/local/lib/python3.7/dist-packages/keras/optimizer_v2/gradient_descent.py:102: UserWarning: The `lr` argument is deprecated, use `learning_rate` instead.\n",
      "  super(SGD, self).__init__(name, **kwargs)\n"
     ]
    },
    {
     "name": "stdout",
     "output_type": "stream",
     "text": [
      "Epoch 1/10\n",
      "1875/1875 [==============================] - 15s 3ms/step - loss: 0.2264 - accuracy: 0.9329 - val_loss: 0.0874 - val_accuracy: 0.9730\n",
      "Epoch 2/10\n",
      "1875/1875 [==============================] - 5s 3ms/step - loss: 0.0709 - accuracy: 0.9788 - val_loss: 0.0610 - val_accuracy: 0.9804\n",
      "Epoch 3/10\n",
      "1875/1875 [==============================] - 5s 3ms/step - loss: 0.0474 - accuracy: 0.9862 - val_loss: 0.0459 - val_accuracy: 0.9849\n",
      "Epoch 4/10\n",
      "1875/1875 [==============================] - 5s 3ms/step - loss: 0.0341 - accuracy: 0.9899 - val_loss: 0.0448 - val_accuracy: 0.9851\n",
      "Epoch 5/10\n",
      "1875/1875 [==============================] - 5s 3ms/step - loss: 0.0256 - accuracy: 0.9917 - val_loss: 0.0455 - val_accuracy: 0.9851\n",
      "Epoch 6/10\n",
      "1875/1875 [==============================] - 6s 3ms/step - loss: 0.0192 - accuracy: 0.9944 - val_loss: 0.0393 - val_accuracy: 0.9870\n",
      "Epoch 7/10\n",
      "1875/1875 [==============================] - 6s 3ms/step - loss: 0.0134 - accuracy: 0.9962 - val_loss: 0.0437 - val_accuracy: 0.9862\n",
      "Epoch 8/10\n",
      "1875/1875 [==============================] - 7s 4ms/step - loss: 0.0103 - accuracy: 0.9972 - val_loss: 0.0501 - val_accuracy: 0.9862\n",
      "Epoch 9/10\n",
      "1875/1875 [==============================] - 6s 3ms/step - loss: 0.0075 - accuracy: 0.9981 - val_loss: 0.0415 - val_accuracy: 0.9877\n",
      "Epoch 10/10\n",
      "1875/1875 [==============================] - 6s 3ms/step - loss: 0.0064 - accuracy: 0.9982 - val_loss: 0.0455 - val_accuracy: 0.9864\n"
     ]
    }
   ],
   "source": [
    "import tensorflow as tf\n",
    "\n",
    "mnist=tf.keras.datasets.mnist\n",
    "(train_images,train_labels),(test_images,test_labels)=mnist.load_data()\n",
    "\n",
    "train_images=train_images.reshape(60000,28,28,1)\n",
    "test_images=test_images.reshape(10000,28,28,1)\n",
    "train_images,test_images=train_images/255.0,test_images/255.0\n",
    "\n",
    "model=tf.keras.Sequential([\n",
    "                           tf.keras.layers.Conv2D(32,(3,3),activation=\"relu\",input_shape=(28,28,1)),\n",
    "                           tf.keras.layers.MaxPool2D(2,2),\n",
    "                           tf.keras.layers.Flatten(),\n",
    "                           tf.keras.layers.Dense(100,activation=\"relu\"),\n",
    "                           tf.keras.layers.Dense(10,activation=\"softmax\")]) \n",
    "model.compile(optimizer=tf.keras.optimizers.SGD(lr=0.01,momentum=0.9),loss=\"sparse_categorical_crossentropy\",metrics=[\"accuracy\"])\n",
    "history=model.fit(train_images,train_labels,batch_size=32,epochs=10,verbose=1,validation_data=(test_images,test_labels))"
   ]
  },
  {
   "cell_type": "code",
   "execution_count": 12,
   "metadata": {
    "colab": {
     "base_uri": "https://localhost:8080/"
    },
    "executionInfo": {
     "elapsed": 1480,
     "status": "ok",
     "timestamp": 1657715617543,
     "user": {
      "displayName": "Azmi",
      "userId": "12811079899412689362"
     },
     "user_tz": -180
    },
    "id": "ZrWTcJOYiegJ",
    "outputId": "78bed264-93b7-435e-bb64-3db6d6745212"
   },
   "outputs": [
    {
     "name": "stdout",
     "output_type": "stream",
     "text": [
      "313/313 [==============================] - 1s 2ms/step - loss: 0.0455 - accuracy: 0.9864\n",
      "Accuracy:98.64\n"
     ]
    }
   ],
   "source": [
    "_,accuracy=model.evaluate(test_images,test_labels)\n",
    "print(\"Accuracy:%.2f\"%(accuracy*100))"
   ]
  },
  {
   "cell_type": "markdown",
   "metadata": {
    "id": "TBJR-lYAjCUm"
   },
   "source": [
    "**Graphs**"
   ]
  },
  {
   "cell_type": "code",
   "execution_count": 13,
   "metadata": {
    "colab": {
     "base_uri": "https://localhost:8080/",
     "height": 573
    },
    "executionInfo": {
     "elapsed": 890,
     "status": "ok",
     "timestamp": 1657715621461,
     "user": {
      "displayName": "Azmi",
      "userId": "12811079899412689362"
     },
     "user_tz": -180
    },
    "id": "lcNElsASizKd",
    "outputId": "475d652c-685c-4900-e881-22047bcf54eb"
   },
   "outputs": [
    {
     "data": {
      "image/png": "[encoded data removed]",
      "text/plain": [
       "<Figure size 432x288 with 1 Axes>"
      ]
     },
     "metadata": {
      "needs_background": "light"
     },
     "output_type": "display_data"
    },
    {
     "data": {
      "image/png": "[encoded data removed]",
      "text/plain": [
       "<Figure size 432x288 with 1 Axes>"
      ]
     },
     "metadata": {
      "needs_background": "light"
     },
     "output_type": "display_data"
    }
   ],
   "source": [
    "import matplotlib.pyplot as plt\n",
    "%matplotlib inline \n",
    "plt.plot(history.history[\"accuracy\"])\n",
    "plt.plot(history.history[\"val_accuracy\"])\n",
    "plt.title(\"Modelaccuracy\")\n",
    "plt.ylabel(\"Accuracy\")\n",
    "plt.xlabel(\"Epoch\")\n",
    "plt.legend([\"Train\",\"Test\"],loc=\"upper left\")\n",
    "plt.show()\n",
    "\n",
    "plt.plot(history.history[\"loss\"])\n",
    "plt.plot(history.history[\"val_loss\"])\n",
    "plt.title(\"Model loss\")\n",
    "plt.ylabel(\"loss\")\n",
    "plt.xlabel(\"Epoch\")\n",
    "plt.legend([\"Train\",\"Test\"],loc=\"upper left\")\n",
    "plt.show()"
   ]
  },
  {
   "cell_type": "markdown",
   "metadata": {
    "id": "Io5IOE7PkUOV"
   },
   "source": [
    "## Combine 2. and 3. Methods:\n"
   ]
  },
  {
   "cell_type": "code",
   "execution_count": 14,
   "metadata": {
    "colab": {
     "base_uri": "https://localhost:8080/"
    },
    "executionInfo": {
     "elapsed": 112276,
     "status": "ok",
     "timestamp": 1657716163610,
     "user": {
      "displayName": "Azmi",
      "userId": "12811079899412689362"
     },
     "user_tz": -180
    },
    "id": "LTpWynVskdIp",
    "outputId": "3bc79290-966d-41b6-aae9-80973da1ec4a"
   },
   "outputs": [
    {
     "name": "stdout",
     "output_type": "stream",
     "text": [
      "Epoch 1/15\n"
     ]
    },
    {
     "name": "stderr",
     "output_type": "stream",
     "text": [
      "/usr/local/lib/python3.7/dist-packages/keras/optimizer_v2/gradient_descent.py:102: UserWarning: The `lr` argument is deprecated, use `learning_rate` instead.\n",
      "  super(SGD, self).__init__(name, **kwargs)\n"
     ]
    },
    {
     "name": "stdout",
     "output_type": "stream",
     "text": [
      "1875/1875 [==============================] - 8s 4ms/step - loss: 0.1751 - accuracy: 0.9463 - val_loss: 0.0508 - val_accuracy: 0.9840\n",
      "Epoch 2/15\n",
      "1875/1875 [==============================] - 7s 4ms/step - loss: 0.0493 - accuracy: 0.9845 - val_loss: 0.0379 - val_accuracy: 0.9875\n",
      "Epoch 3/15\n",
      "1875/1875 [==============================] - 7s 4ms/step - loss: 0.0321 - accuracy: 0.9900 - val_loss: 0.0352 - val_accuracy: 0.9891\n",
      "Epoch 4/15\n",
      "1875/1875 [==============================] - 7s 4ms/step - loss: 0.0199 - accuracy: 0.9937 - val_loss: 0.0382 - val_accuracy: 0.9872\n",
      "Epoch 5/15\n",
      "1875/1875 [==============================] - 8s 4ms/step - loss: 0.0157 - accuracy: 0.9947 - val_loss: 0.0322 - val_accuracy: 0.9899\n",
      "Epoch 6/15\n",
      "1875/1875 [==============================] - 11s 6ms/step - loss: 0.0096 - accuracy: 0.9972 - val_loss: 0.0375 - val_accuracy: 0.9895\n",
      "Epoch 7/15\n",
      "1875/1875 [==============================] - 8s 4ms/step - loss: 0.0072 - accuracy: 0.9977 - val_loss: 0.0406 - val_accuracy: 0.9882\n",
      "Epoch 8/15\n",
      "1875/1875 [==============================] - 6s 3ms/step - loss: 0.0050 - accuracy: 0.9984 - val_loss: 0.0375 - val_accuracy: 0.9897\n",
      "Epoch 9/15\n",
      "1875/1875 [==============================] - 7s 4ms/step - loss: 0.0028 - accuracy: 0.9992 - val_loss: 0.0414 - val_accuracy: 0.9896\n",
      "Epoch 10/15\n",
      "1875/1875 [==============================] - 7s 4ms/step - loss: 0.0012 - accuracy: 0.9997 - val_loss: 0.0425 - val_accuracy: 0.9902\n",
      "Epoch 11/15\n",
      "1875/1875 [==============================] - 7s 4ms/step - loss: 0.0032 - accuracy: 0.9990 - val_loss: 0.0410 - val_accuracy: 0.9897\n",
      "Epoch 12/15\n",
      "1875/1875 [==============================] - 7s 3ms/step - loss: 0.0028 - accuracy: 0.9991 - val_loss: 0.0468 - val_accuracy: 0.9887\n",
      "Epoch 13/15\n",
      "1875/1875 [==============================] - 7s 4ms/step - loss: 0.0017 - accuracy: 0.9995 - val_loss: 0.0459 - val_accuracy: 0.9888\n",
      "Epoch 14/15\n",
      "1875/1875 [==============================] - 7s 4ms/step - loss: 7.4626e-04 - accuracy: 0.9998 - val_loss: 0.0427 - val_accuracy: 0.9899\n",
      "Epoch 15/15\n",
      "1875/1875 [==============================] - 7s 4ms/step - loss: 3.2853e-04 - accuracy: 0.9999 - val_loss: 0.0440 - val_accuracy: 0.9905\n"
     ]
    }
   ],
   "source": [
    "import tensorflow as tf\n",
    "\n",
    "mnist=tf.keras.datasets.mnist\n",
    "(train_images,train_labels),(test_images,test_labels)=mnist.load_data()\n",
    "\n",
    "\n",
    "train_images=train_images.reshape(60000,28,28,1)\n",
    "test_images=test_images.reshape(10000,28,28,1)\n",
    "train_images,test_images=train_images/255.0,test_images/255.0\n",
    "\n",
    "model=tf.keras.Sequential([\n",
    "                           tf.keras.layers.Conv2D(32,(3,3),activation=\"relu\",input_shape=(28,28,1)),\n",
    "                           tf.keras.layers.Conv2D(64,(3,3),activation=\"relu\"),\n",
    "                           tf.keras.layers.MaxPool2D(2,2),\n",
    "                           tf.keras.layers.Flatten(),\n",
    "                           tf.keras.layers.Dense(100,activation=\"relu\"),\n",
    "                           tf.keras.layers.Dense(10,activation=\"softmax\")]) \n",
    "model.compile(optimizer=tf.keras.optimizers.SGD(lr=0.01,momentum=0.9),loss=\"sparse_categorical_crossentropy\",metrics=[\"accuracy\"])\n",
    "history=model.fit(train_images,train_labels,batch_size=32,epochs=15,verbose=1,validation_data=(test_images,test_labels))"
   ]
  },
  {
   "cell_type": "code",
   "execution_count": 15,
   "metadata": {
    "colab": {
     "base_uri": "https://localhost:8080/"
    },
    "executionInfo": {
     "elapsed": 1986,
     "status": "ok",
     "timestamp": 1657716190724,
     "user": {
      "displayName": "Azmi",
      "userId": "12811079899412689362"
     },
     "user_tz": -180
    },
    "id": "v4cPqD1lk3Q0",
    "outputId": "9060735d-1670-499c-ee3b-97d3213ed5c0"
   },
   "outputs": [
    {
     "name": "stdout",
     "output_type": "stream",
     "text": [
      "313/313 [==============================] - 1s 3ms/step - loss: 0.0440 - accuracy: 0.9905\n",
      "Accuracy:99.05\n"
     ]
    }
   ],
   "source": [
    "_,accuracy=model.evaluate(test_images,test_labels)\n",
    "print(\"Accuracy:%.2f\"%(accuracy*100))"
   ]
  },
  {
   "cell_type": "markdown",
   "metadata": {
    "id": "6IeqMosZleLZ"
   },
   "source": [
    "**Graphs**"
   ]
  },
  {
   "cell_type": "code",
   "execution_count": 16,
   "metadata": {
    "colab": {
     "base_uri": "https://localhost:8080/",
     "height": 573
    },
    "executionInfo": {
     "elapsed": 501,
     "status": "ok",
     "timestamp": 1657716220085,
     "user": {
      "displayName": "Azmi",
      "userId": "12811079899412689362"
     },
     "user_tz": -180
    },
    "id": "n3BJSh6Yk_MG",
    "outputId": "cd477942-e48c-493e-b2b7-9d80a05326af"
   },
   "outputs": [
    {
     "data": {
      "image/png": "[encoded data removed]",
      "text/plain": [
       "<Figure size 432x288 with 1 Axes>"
      ]
     },
     "metadata": {
      "needs_background": "light"
     },
     "output_type": "display_data"
    },
    {
     "data": {
      "image/png": "[encoded data removed]",
      "text/plain": [
       "<Figure size 432x288 with 1 Axes>"
      ]
     },
     "metadata": {
      "needs_background": "light"
     },
     "output_type": "display_data"
    }
   ],
   "source": [
    "import matplotlib.pyplot as plt\n",
    "%matplotlib inline \n",
    "plt.plot(history.history[\"accuracy\"])\n",
    "plt.plot(history.history[\"val_accuracy\"])\n",
    "plt.title(\"Modelaccuracy\")\n",
    "plt.ylabel(\"Accuracy\")\n",
    "plt.xlabel(\"Epoch\")\n",
    "plt.legend([\"Train\",\"Test\"],loc=\"upper left\")\n",
    "plt.show()\n",
    "\n",
    "plt.plot(history.history[\"loss\"])\n",
    "plt.plot(history.history[\"val_loss\"])\n",
    "plt.title(\"Model loss\")\n",
    "plt.ylabel(\"loss\")\n",
    "plt.xlabel(\"Epoch\")\n",
    "plt.legend([\"Train\",\"Test\"],loc=\"upper left\")\n",
    "plt.show()"
   ]
  },
  {
   "cell_type": "markdown",
   "metadata": {
    "id": "eFskoK7VlpMQ"
   },
   "source": [
    "## Fourth Method: Dropout"
   ]
  },
  {
   "cell_type": "code",
   "execution_count": 17,
   "metadata": {
    "colab": {
     "base_uri": "https://localhost:8080/"
    },
    "executionInfo": {
     "elapsed": 108475,
     "status": "ok",
     "timestamp": 1657716497303,
     "user": {
      "displayName": "Azmi",
      "userId": "12811079899412689362"
     },
     "user_tz": -180
    },
    "id": "3DI24ejZlcZ_",
    "outputId": "cdaef142-92c6-4056-817c-edf59252f3cd"
   },
   "outputs": [
    {
     "name": "stderr",
     "output_type": "stream",
     "text": [
      "/usr/local/lib/python3.7/dist-packages/keras/optimizer_v2/gradient_descent.py:102: UserWarning: The `lr` argument is deprecated, use `learning_rate` instead.\n",
      "  super(SGD, self).__init__(name, **kwargs)\n"
     ]
    },
    {
     "name": "stdout",
     "output_type": "stream",
     "text": [
      "Epoch 1/15\n",
      "1875/1875 [==============================] - 9s 4ms/step - loss: 0.3071 - accuracy: 0.9052 - val_loss: 0.0645 - val_accuracy: 0.9795\n",
      "Epoch 2/15\n",
      "1875/1875 [==============================] - 7s 4ms/step - loss: 0.1109 - accuracy: 0.9667 - val_loss: 0.0439 - val_accuracy: 0.9850\n",
      "Epoch 3/15\n",
      "1875/1875 [==============================] - 7s 4ms/step - loss: 0.0835 - accuracy: 0.9742 - val_loss: 0.0388 - val_accuracy: 0.9880\n",
      "Epoch 4/15\n",
      "1875/1875 [==============================] - 7s 4ms/step - loss: 0.0677 - accuracy: 0.9795 - val_loss: 0.0347 - val_accuracy: 0.9898\n",
      "Epoch 5/15\n",
      "1875/1875 [==============================] - 7s 4ms/step - loss: 0.0601 - accuracy: 0.9811 - val_loss: 0.0359 - val_accuracy: 0.9883\n",
      "Epoch 6/15\n",
      "1875/1875 [==============================] - 7s 4ms/step - loss: 0.0545 - accuracy: 0.9834 - val_loss: 0.0313 - val_accuracy: 0.9895\n",
      "Epoch 7/15\n",
      "1875/1875 [==============================] - 7s 4ms/step - loss: 0.0482 - accuracy: 0.9853 - val_loss: 0.0326 - val_accuracy: 0.9903\n",
      "Epoch 8/15\n",
      "1875/1875 [==============================] - 8s 4ms/step - loss: 0.0456 - accuracy: 0.9854 - val_loss: 0.0295 - val_accuracy: 0.9911\n",
      "Epoch 9/15\n",
      "1875/1875 [==============================] - 7s 4ms/step - loss: 0.0413 - accuracy: 0.9866 - val_loss: 0.0313 - val_accuracy: 0.9897\n",
      "Epoch 10/15\n",
      "1875/1875 [==============================] - 7s 4ms/step - loss: 0.0386 - accuracy: 0.9876 - val_loss: 0.0278 - val_accuracy: 0.9912\n",
      "Epoch 11/15\n",
      "1875/1875 [==============================] - 8s 4ms/step - loss: 0.0368 - accuracy: 0.9878 - val_loss: 0.0261 - val_accuracy: 0.9917\n",
      "Epoch 12/15\n",
      "1875/1875 [==============================] - 7s 4ms/step - loss: 0.0341 - accuracy: 0.9888 - val_loss: 0.0279 - val_accuracy: 0.9912\n",
      "Epoch 13/15\n",
      "1875/1875 [==============================] - 7s 4ms/step - loss: 0.0288 - accuracy: 0.9905 - val_loss: 0.0290 - val_accuracy: 0.9915\n",
      "Epoch 14/15\n",
      "1875/1875 [==============================] - 7s 4ms/step - loss: 0.0271 - accuracy: 0.9908 - val_loss: 0.0316 - val_accuracy: 0.9907\n",
      "Epoch 15/15\n",
      "1875/1875 [==============================] - 7s 4ms/step - loss: 0.0279 - accuracy: 0.9903 - val_loss: 0.0263 - val_accuracy: 0.9917\n"
     ]
    }
   ],
   "source": [
    "import tensorflow as tf\n",
    "\n",
    "mnist=tf.keras.datasets.mnist\n",
    "(train_images,train_labels),(test_images,test_labels)=mnist.load_data()\n",
    "\n",
    "\n",
    "train_images=train_images.reshape(60000,28,28,1)\n",
    "test_images=test_images.reshape(10000,28,28,1)\n",
    "train_images,test_images=train_images/255.0,test_images/255.0\n",
    "\n",
    "model=tf.keras.Sequential([\n",
    "                           tf.keras.layers.Conv2D(32,(3,3),activation=\"relu\",input_shape=(28,28,1)),\n",
    "                           tf.keras.layers.Conv2D(64,(3,3),activation=\"relu\"),\n",
    "                           tf.keras.layers.MaxPool2D(2,2),\n",
    "                           tf.keras.layers.Dropout(0.25),\n",
    "                           tf.keras.layers.Flatten(),\n",
    "                           tf.keras.layers.Dense(100,activation=\"relu\"),\n",
    "                           tf.keras.layers.Dropout(0.5),\n",
    "                           tf.keras.layers.Dense(10,activation=\"softmax\")]) \n",
    "model.compile(optimizer=tf.keras.optimizers.SGD(lr=0.01,momentum=0.9),loss=\"sparse_categorical_crossentropy\",metrics=[\"accuracy\"])\n",
    "history=model.fit(train_images,train_labels,batch_size=32,epochs=15,verbose=1,validation_data=(test_images,test_labels))\n",
    "\n",
    "# dropout ile ilk once verilerin %25 ini sonra %50 sini veriyoruz\n",
    "# sinav sorularinin sikkini ezberleyen ogrenci gibi olmasin diye"
   ]
  },
  {
   "cell_type": "code",
   "execution_count": 18,
   "metadata": {
    "colab": {
     "base_uri": "https://localhost:8080/"
    },
    "executionInfo": {
     "elapsed": 1921,
     "status": "ok",
     "timestamp": 1657716619771,
     "user": {
      "displayName": "Azmi",
      "userId": "12811079899412689362"
     },
     "user_tz": -180
    },
    "id": "jY5_Sag6k7-9",
    "outputId": "6e32a17e-2b55-4a7b-dda1-f2dfbb33f56b"
   },
   "outputs": [
    {
     "name": "stdout",
     "output_type": "stream",
     "text": [
      "313/313 [==============================] - 1s 3ms/step - loss: 0.0263 - accuracy: 0.9917\n",
      "Accuracy:99.17\n"
     ]
    }
   ],
   "source": [
    "_,accuracy=model.evaluate(test_images,test_labels)\n",
    "print(\"Accuracy:%.2f\"%(accuracy*100))"
   ]
  },
  {
   "cell_type": "markdown",
   "metadata": {
    "id": "lFGW4Ehll2zY"
   },
   "source": [
    "**Graphs**"
   ]
  },
  {
   "cell_type": "code",
   "execution_count": 19,
   "metadata": {
    "colab": {
     "base_uri": "https://localhost:8080/",
     "height": 573
    },
    "executionInfo": {
     "elapsed": 728,
     "status": "ok",
     "timestamp": 1657716622949,
     "user": {
      "displayName": "Azmi",
      "userId": "12811079899412689362"
     },
     "user_tz": -180
    },
    "id": "e75uxBodl3Ky",
    "outputId": "26e85c23-e5eb-432b-e0eb-a2b5e307e897"
   },
   "outputs": [
    {
     "data": {
      "image/png": "[encoded data removed]",
      "text/plain": [
       "<Figure size 432x288 with 1 Axes>"
      ]
     },
     "metadata": {
      "needs_background": "light"
     },
     "output_type": "display_data"
    },
    {
     "data": {
      "image/png": "[encoded data removed]",
      "text/plain": [
       "<Figure size 432x288 with 1 Axes>"
      ]
     },
     "metadata": {
      "needs_background": "light"
     },
     "output_type": "display_data"
    }
   ],
   "source": [
    "import matplotlib.pyplot as plt\n",
    "%matplotlib inline \n",
    "plt.plot(history.history[\"accuracy\"])\n",
    "plt.plot(history.history[\"val_accuracy\"])\n",
    "plt.title(\"Modelaccuracy\")\n",
    "plt.ylabel(\"Accuracy\")\n",
    "plt.xlabel(\"Epoch\")\n",
    "plt.legend([\"Train\",\"Test\"],loc=\"upper left\")\n",
    "plt.show()\n",
    "\n",
    "plt.plot(history.history[\"loss\"])\n",
    "plt.plot(history.history[\"val_loss\"])\n",
    "plt.title(\"Model loss\")\n",
    "plt.ylabel(\"loss\")\n",
    "plt.xlabel(\"Epoch\")\n",
    "plt.legend([\"Train\",\"Test\"],loc=\"upper left\")\n",
    "plt.show()"
   ]
  },
  {
   "cell_type": "markdown",
   "metadata": {
    "id": "Q3yUM-nuotOY"
   },
   "source": [
    "## Normalize\n",
    "Layerlar arasi sayilarin anlamli olmasi icin gerekli\n",
    "\n",
    "https://www.cs.cmu.edu/~aharley/vis/conv/flat.html\n",
    "\n"
   ]
  },
  {
   "cell_type": "code",
   "execution_count": null,
   "metadata": {},
   "outputs": [],
   "source": [
    "model=tf.keras.Sequential([\n",
    "                           tf.keras.layers.Conv2D(32,(3,3),activation=\"relu\",input_shape=(28,28,1)),\n",
    "                           tf.keras.layers.BatchNormalization(),\n",
    "                           tf.keras.layers.Conv2D(64,(3,3),activation=\"relu\"),\n",
    "                           tf.keras.layers.MaxPool2D(2,2),\n",
    "                           tf.keras.layers.Dense(100,activation=\"relu\"),\n",
    "                           tf.keras.layers.BatchNormalization(),\n",
    "                           tf.keras.layers.Flatten(),\n",
    "                           tf.keras.layers.Dropout(0.5),    \n",
    "                           tf.keras.layers.Dense(100,activation=\"relu\"),\n",
    "                           tf.keras.layers.BatchNormalization(),\n",
    "                           tf.keras.layers.Dense(10,activation=\"softmax\")]) \n",
    "model.summary()"
   ]
  },
  {
   "cell_type": "code",
   "execution_count": 20,
   "metadata": {
    "colab": {
     "base_uri": "https://localhost:8080/"
    },
    "executionInfo": {
     "elapsed": 121360,
     "status": "ok",
     "timestamp": 1657717345563,
     "user": {
      "displayName": "Azmi",
      "userId": "12811079899412689362"
     },
     "user_tz": -180
    },
    "id": "XEAqMofnoyga",
    "outputId": "5fd3c15e-b4b1-42c4-be55-b2fef817ae70"
   },
   "outputs": [
    {
     "name": "stdout",
     "output_type": "stream",
     "text": [
      "Epoch 1/15\n"
     ]
    },
    {
     "name": "stderr",
     "output_type": "stream",
     "text": [
      "/usr/local/lib/python3.7/dist-packages/keras/optimizer_v2/gradient_descent.py:102: UserWarning: The `lr` argument is deprecated, use `learning_rate` instead.\n",
      "  super(SGD, self).__init__(name, **kwargs)\n"
     ]
    },
    {
     "name": "stdout",
     "output_type": "stream",
     "text": [
      "1875/1875 [==============================] - 10s 5ms/step - loss: 0.1004 - accuracy: 0.9702 - val_loss: 0.0458 - val_accuracy: 0.9856\n",
      "Epoch 2/15\n",
      "1875/1875 [==============================] - 8s 4ms/step - loss: 0.0367 - accuracy: 0.9885 - val_loss: 0.0423 - val_accuracy: 0.9858\n",
      "Epoch 3/15\n",
      "1875/1875 [==============================] - 8s 4ms/step - loss: 0.0238 - accuracy: 0.9928 - val_loss: 0.0273 - val_accuracy: 0.9911\n",
      "Epoch 4/15\n",
      "1875/1875 [==============================] - 8s 4ms/step - loss: 0.0156 - accuracy: 0.9954 - val_loss: 0.0341 - val_accuracy: 0.9893\n",
      "Epoch 5/15\n",
      "1875/1875 [==============================] - 8s 4ms/step - loss: 0.0104 - accuracy: 0.9971 - val_loss: 0.0279 - val_accuracy: 0.9910\n",
      "Epoch 6/15\n",
      "1875/1875 [==============================] - 8s 4ms/step - loss: 0.0070 - accuracy: 0.9982 - val_loss: 0.0250 - val_accuracy: 0.9919\n",
      "Epoch 7/15\n",
      "1875/1875 [==============================] - 8s 4ms/step - loss: 0.0051 - accuracy: 0.9986 - val_loss: 0.0289 - val_accuracy: 0.9910\n",
      "Epoch 8/15\n",
      "1875/1875 [==============================] - 8s 4ms/step - loss: 0.0036 - accuracy: 0.9993 - val_loss: 0.0290 - val_accuracy: 0.9918\n",
      "Epoch 9/15\n",
      "1875/1875 [==============================] - 8s 4ms/step - loss: 0.0031 - accuracy: 0.9993 - val_loss: 0.0331 - val_accuracy: 0.9898\n",
      "Epoch 10/15\n",
      "1875/1875 [==============================] - 8s 4ms/step - loss: 0.0028 - accuracy: 0.9994 - val_loss: 0.0286 - val_accuracy: 0.9916\n",
      "Epoch 11/15\n",
      "1875/1875 [==============================] - 8s 4ms/step - loss: 0.0024 - accuracy: 0.9996 - val_loss: 0.0297 - val_accuracy: 0.9924\n",
      "Epoch 12/15\n",
      "1875/1875 [==============================] - 8s 4ms/step - loss: 0.0018 - accuracy: 0.9996 - val_loss: 0.0286 - val_accuracy: 0.9928\n",
      "Epoch 13/15\n",
      "1875/1875 [==============================] - 8s 4ms/step - loss: 0.0016 - accuracy: 0.9997 - val_loss: 0.0270 - val_accuracy: 0.9923\n",
      "Epoch 14/15\n",
      "1875/1875 [==============================] - 8s 4ms/step - loss: 0.0015 - accuracy: 0.9998 - val_loss: 0.0267 - val_accuracy: 0.9926\n",
      "Epoch 15/15\n",
      "1875/1875 [==============================] - 8s 4ms/step - loss: 0.0011 - accuracy: 0.9998 - val_loss: 0.0289 - val_accuracy: 0.9919\n"
     ]
    }
   ],
   "source": [
    "import tensorflow as tf\n",
    "\n",
    "mnist=tf.keras.datasets.mnist\n",
    "(train_images,train_labels),(test_images,test_labels)=mnist.load_data()\n",
    "\n",
    "\n",
    "train_images=train_images.reshape(60000,28,28,1)\n",
    "test_images=test_images.reshape(10000,28,28,1)\n",
    "train_images,test_images=train_images/255.0,test_images/255.0\n",
    "\n",
    "model=tf.keras.Sequential([\n",
    "                           tf.keras.layers.Conv2D(32,(3,3),activation=\"relu\",input_shape=(28,28,1)),\n",
    "                           tf.keras.layers.BatchNormalization(),\n",
    "                           tf.keras.layers.Conv2D(64,(3,3),activation=\"relu\"),\n",
    "                           tf.keras.layers.MaxPool2D(2,2),\n",
    "                           tf.keras.layers.BatchNormalization(),\n",
    "                           tf.keras.layers.Flatten(),\n",
    "                           tf.keras.layers.Dense(100,activation=\"relu\"),\n",
    "                           tf.keras.layers.BatchNormalization(),\n",
    "                           tf.keras.layers.Dense(10,activation=\"softmax\")]) \n",
    "model.compile(optimizer=tf.keras.optimizers.SGD(lr=0.01,momentum=0.9),loss=\"sparse_categorical_crossentropy\",metrics=[\"accuracy\"])\n",
    "history=model.fit(train_images,train_labels,batch_size=32,epochs=15,verbose=1,validation_data=(test_images,test_labels))\n",
    "\n"
   ]
  },
  {
   "cell_type": "code",
   "execution_count": 21,
   "metadata": {
    "colab": {
     "base_uri": "https://localhost:8080/"
    },
    "executionInfo": {
     "elapsed": 1925,
     "status": "ok",
     "timestamp": 1657717560726,
     "user": {
      "displayName": "Azmi",
      "userId": "12811079899412689362"
     },
     "user_tz": -180
    },
    "id": "YHkuD03qpI6s",
    "outputId": "1fd863ab-9f13-4148-f171-5e091f5c1bcf"
   },
   "outputs": [
    {
     "name": "stdout",
     "output_type": "stream",
     "text": [
      "313/313 [==============================] - 1s 3ms/step - loss: 0.0289 - accuracy: 0.9919\n",
      "Accuracy:99.19\n"
     ]
    }
   ],
   "source": [
    "_,accuracy=model.evaluate(test_images,test_labels)\n",
    "print(\"Accuracy:%.2f\"%(accuracy*100))"
   ]
  },
  {
   "cell_type": "code",
   "execution_count": 22,
   "metadata": {
    "colab": {
     "base_uri": "https://localhost:8080/",
     "height": 573
    },
    "executionInfo": {
     "elapsed": 571,
     "status": "ok",
     "timestamp": 1657717564074,
     "user": {
      "displayName": "Azmi",
      "userId": "12811079899412689362"
     },
     "user_tz": -180
    },
    "id": "DSFLMPb2pIt0",
    "outputId": "dfb35a74-3132-47d1-fbaf-c3122c9f239b",
    "scrolled": false
   },
   "outputs": [
    {
     "data": {
      "image/png": "[encoded data removed]",
      "text/plain": [
       "<Figure size 432x288 with 1 Axes>"
      ]
     },
     "metadata": {
      "needs_background": "light"
     },
     "output_type": "display_data"
    },
    {
     "data": {
      "image/png": "[encoded data removed]",
      "text/plain": [
       "<Figure size 432x288 with 1 Axes>"
      ]
     },
     "metadata": {
      "needs_background": "light"
     },
     "output_type": "display_data"
    }
   ],
   "source": [
    "import matplotlib.pyplot as plt\n",
    "%matplotlib inline \n",
    "plt.plot(history.history[\"accuracy\"])\n",
    "plt.plot(history.history[\"val_accuracy\"])\n",
    "plt.title(\"Modelaccuracy\")\n",
    "plt.ylabel(\"Accuracy\")\n",
    "plt.xlabel(\"Epoch\")\n",
    "plt.legend([\"Train\",\"Test\"],loc=\"upper left\")\n",
    "plt.show()\n",
    "\n",
    "plt.plot(history.history[\"loss\"])\n",
    "plt.plot(history.history[\"val_loss\"])\n",
    "plt.title(\"Model loss\")\n",
    "plt.ylabel(\"loss\")\n",
    "plt.xlabel(\"Epoch\")\n",
    "plt.legend([\"Train\",\"Test\"],loc=\"upper left\")\n",
    "plt.show()"
   ]
  }
 ],
 "metadata": {
  "accelerator": "GPU",
  "colab": {
   "authorship_tag": "ABX9TyMENf84k1QCnbCdGqNUamaj",
   "mount_file_id": "1FJIkSEA6A8YYGMEsFs_7R6VDf9qzPlAg",
   "name": "MNISTOptimization.ipynb",
   "provenance": []
  },
  "gpuClass": "standard",
  "kernelspec": {
   "display_name": "Python 3 (ipykernel)",
   "language": "python",
   "name": "python3"
  },
  "language_info": {
   "codemirror_mode": {
    "name": "ipython",
    "version": 3
   },
   "file_extension": ".py",
   "mimetype": "text/x-python",
   "name": "python",
   "nbconvert_exporter": "python",
   "pygments_lexer": "ipython3",
   "version": "3.9.12"
  },
  "toc": {
   "base_numbering": 1,
   "nav_menu": {},
   "number_sections": true,
   "sideBar": true,
   "skip_h1_title": false,
   "title_cell": "Table of Contents",
   "title_sidebar": "Contents",
   "toc_cell": false,
   "toc_position": {},
   "toc_section_display": true,
   "toc_window_display": false
  },
  "varInspector": {
   "cols": {
    "lenName": 16,
    "lenType": 16,
    "lenVar": 40
   },
   "kernels_config": {
    "python": {
     "delete_cmd_postfix": "",
     "delete_cmd_prefix": "del ",
     "library": "var_list.py",
     "varRefreshCmd": "print(var_dic_list())"
    },
    "r": {
     "delete_cmd_postfix": ") ",
     "delete_cmd_prefix": "rm(",
     "library": "var_list.r",
     "varRefreshCmd": "cat(var_dic_list()) "
    }
   },
   "types_to_exclude": [
    "module",
    "function",
    "builtin_function_or_method",
    "instance",
    "_Feature"
   ],
   "window_display": false
  }
 },
 "nbformat": 4,
 "nbformat_minor": 1
}
